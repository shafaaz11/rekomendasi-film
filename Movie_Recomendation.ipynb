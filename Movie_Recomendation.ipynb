{
  "nbformat": 4,
  "nbformat_minor": 0,
  "metadata": {
    "colab": {
      "provenance": []
    },
    "kernelspec": {
      "name": "python3",
      "display_name": "Python 3"
    },
    "language_info": {
      "name": "python"
    }
  },
  "cells": [
    {
      "cell_type": "code",
      "execution_count": null,
      "metadata": {
        "id": "1MZBonRSA_qm"
      },
      "outputs": [],
      "source": []
    },
    {
      "cell_type": "markdown",
      "source": [
        "# Business Understanding\n",
        "Proyek ini bertujuan untuk mengembangkan Sistem Rekomendasi Film yang canggih dan personal. Sistem ini akan menggunakan dua metode utama, yaitu content-based filtering dan collaborative filtering, untuk memberikan rekomendasi film yang sesuai dengan preferensi masing-masing pengguna. Fokus utama adalah memberikan pengalaman rekomendasi yang lebih akurat dan personal, sehingga meningkatkan kepuasan dan keterlibatan pengguna dalam mengeksplorasi dunia film.\n",
        "\n",
        "# Problem Statement\n",
        "  1. Pengguna sering kali merasa kesulitan untuk menemukan film yang sesuai dengan selera mereka.\n",
        "  2. Sistem rekomendasi yang ada belum sepenuhnya memahami preferensi unik setiap pengguna, sehingga seringkali memberikan rekomendasi yang kurang akurat.\n",
        "\n",
        "# Goal\n",
        "  1. Meningkatkan kepuasan pengguna dengan memberikan rekomendasi film yang sesuai dengan preferensi masing-masing.\n",
        "  2. Meningkatkan keterlibatan pengguna dalam mengeksplorasi konten film di platform.\n",
        "\n",
        "# Solution Statement\n",
        "  1. Mengembangkan Sistem Rekomendasi Film yang mengintegrasikan content-based filtering dan collaborative filtering. D\n",
        "  2. Menganalisis karakteristik film yang disukai oleh pengguna melalui content-based filtering, dan memahami kesamaan preferensi pengguna dengan pengguna lain melalui collaborative filtering, untuk memberikan rekomendasi yang lebih akurat dan personal.\n",
        "  3. Fleksibilitas dalam menyesuaikan preferensi pengguna akan menjadi kunci untuk meningkatkan kepuasan dan keterlibatan pengguna dalam mengeksplorasi dunia film."
      ],
      "metadata": {
        "id": "hzyhWx94BJvI"
      }
    },
    {
      "cell_type": "code",
      "source": [],
      "metadata": {
        "id": "34fm2tiPCGd1"
      },
      "execution_count": null,
      "outputs": []
    }
  ]
}